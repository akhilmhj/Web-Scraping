{
 "cells": [
  {
   "cell_type": "code",
   "execution_count": null,
   "metadata": {
    "scrolled": true
   },
   "outputs": [],
   "source": [
    "from bs4 import BeautifulSoup as bs\n",
    "import requests\n",
    "import re\n",
    "html_text1=requests.get(\"https://www.ugc.ac.in/stateuniversity.aspx\")\n",
    "soup1=bs(html_text1.text)\n",
    "a1=soup1.find_all('li')\n",
    "ls1=[]\n",
    "for text in a1:\n",
    "    try:\n",
    "        output=(text.a['href']) \n",
    "        if output.startswith('stateuniversitylist.aspx?id='):\n",
    "            ls1.append(output)\n",
    "    except:             \n",
    "        continue\n",
    "ls1=[\"https://www.ugc.ac.in/\" + i for i in ls1 ]\n",
    "\n",
    "for i in range(len(ls1)):\n",
    "    html_text2=requests.get(ls1[i])\n",
    "    soup2=bs(html_text2.text)\n",
    "    univlink=soup2.find_all(\"div\", class_=\"col-md-12\")\n",
    "    for text in univlink:\n",
    "        output=(text.a['href'])\n",
    "        if output.startswith(\"#\") or output==\"https://www.ugc.ac.in/\":\n",
    "            continue\n",
    "        else:\n",
    "            print(output)\n",
    "    print(\"****\")"
   ]
  }
 ],
 "metadata": {
  "kernelspec": {
   "display_name": "Python 3",
   "language": "python",
   "name": "python3"
  },
  "language_info": {
   "codemirror_mode": {
    "name": "ipython",
    "version": 3
   },
   "file_extension": ".py",
   "mimetype": "text/x-python",
   "name": "python",
   "nbconvert_exporter": "python",
   "pygments_lexer": "ipython3",
   "version": "3.7.6"
  }
 },
 "nbformat": 4,
 "nbformat_minor": 4
}

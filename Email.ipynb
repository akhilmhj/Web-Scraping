{
 "cells": [
  {
   "cell_type": "code",
   "execution_count": null,
   "metadata": {
    "scrolled": false
   },
   "outputs": [],
   "source": [
    "from bs4 import BeautifulSoup as bs\n",
    "import requests\n",
    "import re\n",
    "html_text1=requests.get(\"https://www.ugc.ac.in/stateuniversity.aspx\")\n",
    "soup1=bs(html_text1.text)\n",
    "a1=soup1.find_all('li')\n",
    "ls1=[]\n",
    "for text in a1:\n",
    "    try:\n",
    "        output=(text.a['href']) \n",
    "        if output.startswith('stateuniversitylist.aspx?id='):\n",
    "            ls1.append(output)\n",
    "    except:             \n",
    "        continue\n",
    "ls1=[\"https://www.ugc.ac.in/\" + i for i in ls1 ]\n",
    "\n",
    "\n",
    "for i in range(len(ls1)):\n",
    "    html_text2=requests.get(ls1[i])\n",
    "    soup2=bs(html_text2.text)\n",
    "    import re\n",
    "    a=r'menu5[\\d]*'\n",
    "    b=str(soup2.find_all('div', class_='tab-pane fade'))\n",
    "    c=re.findall(a,b)\n",
    "    ls2=[]\n",
    "    for i in c:\n",
    "        univcards=soup2.find('div', id=i, class_='tab-pane fade')\n",
    "        ls2.append(univcards.iframe['src'])\n",
    "    ls2=[\"https://www.ugc.ac.in/\" + i for i in ls2 ]\n",
    "    ls6=[]\n",
    "    for i in range(len(ls2)):\n",
    "        html_text3=requests.get(ls2[i])\n",
    "        soup3=bs(html_text3.content,'html.parser')\n",
    "        q1=soup3.find_all('font', size=\"2\")\n",
    "        s=re.findall(\".*@.*\",str(q1[2].text))\n",
    "        if s!=[]:\n",
    "            ls6.append(str(s))\n",
    "        else:\n",
    "            ls6.append(\"N/A\")\n",
    "    ls6=[i.replace(\"\\\\r\",\"\") for i in (ls6)]\n",
    "    ls6=[i.replace(\" \",\"\") for i in (ls6)]\n",
    "    ls6=[i.replace(\"E-mail:\",\"\") for i in (ls6)]\n",
    "    ls6=[i.replace(\"['\",\"\") for i in (ls6)]\n",
    "    ls6=[i.replace(\"']\",\"\") for i in (ls6)]\n",
    "    for i in range(len(ls6)):\n",
    "        print(ls6[i])\n",
    "    print(\"\\n\")\n"
   ]
  }
 ],
 "metadata": {
  "kernelspec": {
   "display_name": "Python 3",
   "language": "python",
   "name": "python3"
  },
  "language_info": {
   "codemirror_mode": {
    "name": "ipython",
    "version": 3
   },
   "file_extension": ".py",
   "mimetype": "text/x-python",
   "name": "python",
   "nbconvert_exporter": "python",
   "pygments_lexer": "ipython3",
   "version": "3.7.6"
  }
 },
 "nbformat": 4,
 "nbformat_minor": 4
}
